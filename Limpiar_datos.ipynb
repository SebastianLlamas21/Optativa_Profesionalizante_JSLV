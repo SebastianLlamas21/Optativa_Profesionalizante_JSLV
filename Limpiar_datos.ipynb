{
  "nbformat": 4,
  "nbformat_minor": 0,
  "metadata": {
    "colab": {
      "provenance": [],
      "authorship_tag": "ABX9TyPtppH7HfjtWqFP5j+fprNC",
      "include_colab_link": true
    },
    "kernelspec": {
      "name": "python3",
      "display_name": "Python 3"
    },
    "language_info": {
      "name": "python"
    }
  },
  "cells": [
    {
      "cell_type": "markdown",
      "metadata": {
        "id": "view-in-github",
        "colab_type": "text"
      },
      "source": [
        "<a href=\"https://colab.research.google.com/github/SebastianLlamas21/Optativa_Profesionalizante_JSLV/blob/main/Limpiar_datos.ipynb\" target=\"_parent\"><img src=\"https://colab.research.google.com/assets/colab-badge.svg\" alt=\"Open In Colab\"/></a>"
      ]
    },
    {
      "cell_type": "markdown",
      "source": [],
      "metadata": {
        "id": "4z4t89Uioay3"
      }
    },
    {
      "cell_type": "code",
      "execution_count": 4,
      "metadata": {
        "colab": {
          "base_uri": "https://localhost:8080/"
        },
        "id": "E6W_l14uoL1R",
        "outputId": "59b766d0-99f0-4249-e8b8-b803609867ce"
      },
      "outputs": [
        {
          "output_type": "stream",
          "name": "stdout",
          "text": [
            "DataFrame original\n",
            "     A    B  C    D\n",
            "0  1.0  5.0  a  foo\n",
            "1  2.0  6.0  b  bar\n",
            "2  NaN  7.0  c  foo\n",
            "3  4.0  NaN  d  bar\n",
            "4  5.0  9.0  e  foo\n"
          ]
        }
      ],
      "source": [
        "import pandas as pd\n",
        "import numpy as np\n",
        "\n",
        "df = pd.DataFrame({\n",
        "    'A': [1, 2, np.nan, 4, 5],\n",
        "    'B': [5, 6, 7, np.nan, 9],\n",
        "    'C': ['a', 'b', 'c', 'd', 'e'],\n",
        "    'D': ['foo', 'bar', 'foo', 'bar', 'foo'],\n",
        "})\n",
        "print(\"DataFrame original: \")\n",
        "print(df)"
      ]
    },
    {
      "cell_type": "markdown",
      "source": [
        "##Eliminar filas con valores nulos"
      ],
      "metadata": {
        "id": "hFWRowc8oZGd"
      }
    },
    {
      "cell_type": "code",
      "source": [
        "df_clean = df.dropna()\n",
        "print(\"DataFrame sin filas nulas: \")\n",
        "print(df_clean)"
      ],
      "metadata": {
        "colab": {
          "base_uri": "https://localhost:8080/"
        },
        "id": "_IYHF6IcqXky",
        "outputId": "e53d7991-607d-4470-d9ef-c290477e9c83"
      },
      "execution_count": 5,
      "outputs": [
        {
          "output_type": "stream",
          "name": "stdout",
          "text": [
            "DataFrame sin filas nulas: \n",
            "     A    B  C    D\n",
            "0  1.0  5.0  a  foo\n",
            "1  2.0  6.0  b  bar\n",
            "4  5.0  9.0  e  foo\n"
          ]
        }
      ]
    },
    {
      "cell_type": "markdown",
      "source": [
        "##Rellenar valroes nulos"
      ],
      "metadata": {
        "id": "o5Etk9t6rQEs"
      }
    },
    {
      "cell_type": "code",
      "source": [
        "df_filled = df.fillna(value={'A': df['A'].mean(), 'B': df['B'].median()})\n",
        "print(\"DataFrame con valores nulos rellenados: \")\n",
        "print(df_filled)"
      ],
      "metadata": {
        "colab": {
          "base_uri": "https://localhost:8080/"
        },
        "id": "3eV8kTykrS6g",
        "outputId": "44b1fc30-1f89-47dc-ad1b-99bf98559962"
      },
      "execution_count": 6,
      "outputs": [
        {
          "output_type": "stream",
          "name": "stdout",
          "text": [
            "DataFrame con valores nulos rellenados: \n",
            "     A    B  C    D\n",
            "0  1.0  5.0  a  foo\n",
            "1  2.0  6.0  b  bar\n",
            "2  3.0  7.0  c  foo\n",
            "3  4.0  6.5  d  bar\n",
            "4  5.0  9.0  e  foo\n"
          ]
        }
      ]
    },
    {
      "cell_type": "markdown",
      "source": [
        "##Eliminar duplicados"
      ],
      "metadata": {
        "id": "vJCVWA7msWPa"
      }
    },
    {
      "cell_type": "code",
      "source": [
        "df_no_duplicates = df.drop_duplicates(subset=['D'])\n",
        "print(\"DataFrame sin duplicados en columna D: \")\n",
        "print(df_no_duplicates)"
      ],
      "metadata": {
        "colab": {
          "base_uri": "https://localhost:8080/"
        },
        "id": "RIFUfc2ArleF",
        "outputId": "f1ba5ae5-50e9-4fda-e384-f1d0b3097832"
      },
      "execution_count": 8,
      "outputs": [
        {
          "output_type": "stream",
          "name": "stdout",
          "text": [
            "DataFrame sin duplicados: \n",
            "     A    B  C    D\n",
            "0  1.0  5.0  a  foo\n",
            "1  2.0  6.0  b  bar\n"
          ]
        }
      ]
    },
    {
      "cell_type": "markdown",
      "source": [
        "##Renombrar columnas"
      ],
      "metadata": {
        "id": "HSLJSyNDuh0v"
      }
    },
    {
      "cell_type": "code",
      "source": [
        "df_renamed = df.rename(columns={'A': 'Alpha', 'B': 'Beta', 'C': 'Charlie', 'D': 'Delta'})\n",
        "print(\"DataFrame con columnas renombradas: \")\n",
        "print(df_renamed)"
      ],
      "metadata": {
        "colab": {
          "base_uri": "https://localhost:8080/"
        },
        "id": "qSSKfVftt8wU",
        "outputId": "4e5fdbb4-c2b8-4303-b130-6c6515b55b0c"
      },
      "execution_count": 9,
      "outputs": [
        {
          "output_type": "stream",
          "name": "stdout",
          "text": [
            "DataFrame con columnas renombradas: \n",
            "   Alpha  Beta Charlie Delta\n",
            "0    1.0   5.0       a   foo\n",
            "1    2.0   6.0       b   bar\n",
            "2    NaN   7.0       c   foo\n",
            "3    4.0   NaN       d   bar\n",
            "4    5.0   9.0       e   foo\n"
          ]
        }
      ]
    },
    {
      "cell_type": "code",
      "source": [],
      "metadata": {
        "id": "zirre7DAu1Uw"
      },
      "execution_count": null,
      "outputs": []
    }
  ]
}