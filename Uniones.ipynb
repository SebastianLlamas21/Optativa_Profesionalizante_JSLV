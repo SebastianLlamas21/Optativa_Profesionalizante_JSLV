{
  "nbformat": 4,
  "nbformat_minor": 0,
  "metadata": {
    "colab": {
      "provenance": [],
      "authorship_tag": "ABX9TyNSXwA4ismtsmAmppZlJbmy",
      "include_colab_link": true
    },
    "kernelspec": {
      "name": "python3",
      "display_name": "Python 3"
    },
    "language_info": {
      "name": "python"
    }
  },
  "cells": [
    {
      "cell_type": "markdown",
      "metadata": {
        "id": "view-in-github",
        "colab_type": "text"
      },
      "source": [
        "<a href=\"https://colab.research.google.com/github/SebastianLlamas21/Optativa_Profesionalizante_JSLV/blob/main/Uniones.ipynb\" target=\"_parent\"><img src=\"https://colab.research.google.com/assets/colab-badge.svg\" alt=\"Open In Colab\"/></a>"
      ]
    },
    {
      "cell_type": "code",
      "execution_count": 1,
      "metadata": {
        "id": "95xKsZhYx0qb"
      },
      "outputs": [],
      "source": [
        "import pandas as pd"
      ]
    },
    {
      "cell_type": "markdown",
      "source": [
        "##Creación de DataFrame's"
      ],
      "metadata": {
        "id": "9XYxkHu-yHis"
      }
    },
    {
      "cell_type": "code",
      "source": [
        "df1 = pd.DataFrame({\n",
        "    'ID': [1, 2, 3, 4],\n",
        "    'Nombre': ['Ana', 'Juan', 'María', 'Carlos'],\n",
        "    'Departamento': ['Ventas', 'IT', 'Marketing', 'RH']\n",
        "})\n",
        "\n",
        "df2 = pd.DataFrame({\n",
        "    'ID': [3, 4, 5, 6],\n",
        "    'Salario': [50000, 60000, 55000, 65000]\n",
        "})\n",
        "\n",
        "print(df1)\n",
        "print(\"\\n\\n\", df2)"
      ],
      "metadata": {
        "colab": {
          "base_uri": "https://localhost:8080/"
        },
        "id": "saSt3oCRyNnN",
        "outputId": "ae187a6b-199e-4f18-807f-ba1d7c85a6eb"
      },
      "execution_count": 7,
      "outputs": [
        {
          "output_type": "stream",
          "name": "stdout",
          "text": [
            "   ID  Nombre Departamento\n",
            "0   1     Ana       Ventas\n",
            "1   2    Juan           IT\n",
            "2   3   María    Marketing\n",
            "3   4  Carlos           RH\n",
            "\n",
            "\n",
            "    ID  Salario\n",
            "0   3    50000\n",
            "1   4    60000\n",
            "2   5    55000\n",
            "3   6    65000\n"
          ]
        }
      ]
    },
    {
      "cell_type": "markdown",
      "source": [
        "##Funcion Inner\n",
        "La funcion une los valores de los dataframes solo cuando coincide el ID, en este caso"
      ],
      "metadata": {
        "id": "hX2A5lF-zSk3"
      }
    },
    {
      "cell_type": "code",
      "source": [
        "inner_merge = pd.merge(df1, df2, on='ID', how='inner')\n",
        "print(\"Funcion Inner\\n\", inner_merge)"
      ],
      "metadata": {
        "colab": {
          "base_uri": "https://localhost:8080/"
        },
        "id": "S60hMxQOzXao",
        "outputId": "2c92a072-46dd-4807-9f1a-a9a24d6d3d87"
      },
      "execution_count": 8,
      "outputs": [
        {
          "output_type": "stream",
          "name": "stdout",
          "text": [
            "Funcion Inner\n",
            "    ID  Nombre Departamento  Salario\n",
            "0   3   María    Marketing    50000\n",
            "1   4  Carlos           RH    60000\n"
          ]
        }
      ]
    },
    {
      "cell_type": "markdown",
      "source": [
        "## Fusion Outer"
      ],
      "metadata": {
        "id": "mf2IrDkD0Mhe"
      }
    },
    {
      "cell_type": "code",
      "source": [
        "outer_merge = pd.merge(df1, df2, on='ID', how='outer')\n",
        "print(\"Funcion outer\\n\", outer_merge)"
      ],
      "metadata": {
        "colab": {
          "base_uri": "https://localhost:8080/"
        },
        "id": "1tS6OJip0b-m",
        "outputId": "cfc593e3-b7f8-4ecb-ca78-7e4e71f46063"
      },
      "execution_count": 9,
      "outputs": [
        {
          "output_type": "stream",
          "name": "stdout",
          "text": [
            "Funcion outer\n",
            "    ID  Nombre Departamento  Salario\n",
            "0   1     Ana       Ventas      NaN\n",
            "1   2    Juan           IT      NaN\n",
            "2   3   María    Marketing  50000.0\n",
            "3   4  Carlos           RH  60000.0\n",
            "4   5     NaN          NaN  55000.0\n",
            "5   6     NaN          NaN  65000.0\n"
          ]
        }
      ]
    },
    {
      "cell_type": "markdown",
      "source": [
        "## Fusion left"
      ],
      "metadata": {
        "id": "OgxJEKyH01f3"
      }
    },
    {
      "cell_type": "code",
      "source": [
        "left_merge = pd.merge(df1, df2, on='ID', how='left')\n",
        "print(\"Funcion left\\n\", left_merge)"
      ],
      "metadata": {
        "colab": {
          "base_uri": "https://localhost:8080/"
        },
        "id": "ao4_EGRm04Eg",
        "outputId": "511e586f-56d6-44e7-f3ab-82b4125ddc92"
      },
      "execution_count": 12,
      "outputs": [
        {
          "output_type": "stream",
          "name": "stdout",
          "text": [
            "Funcion left\n",
            "    ID  Nombre Departamento  Salario\n",
            "0   1     Ana       Ventas      NaN\n",
            "1   2    Juan           IT      NaN\n",
            "2   3   María    Marketing  50000.0\n",
            "3   4  Carlos           RH  60000.0\n"
          ]
        }
      ]
    },
    {
      "cell_type": "markdown",
      "source": [
        "##Fusion Right"
      ],
      "metadata": {
        "id": "hnJegucV1W3I"
      }
    },
    {
      "cell_type": "code",
      "source": [
        "right_merge = pd.merge(df1, df2, on='ID', how='right')\n",
        "print(\"Funcion right\\n\", right_merge)"
      ],
      "metadata": {
        "colab": {
          "base_uri": "https://localhost:8080/"
        },
        "id": "AvnVAdhf1ZxS",
        "outputId": "050eb3d4-f787-4dec-dab9-bb52833578c7"
      },
      "execution_count": 13,
      "outputs": [
        {
          "output_type": "stream",
          "name": "stdout",
          "text": [
            "Funcion right\n",
            "    ID  Nombre Departamento  Salario\n",
            "0   3   María    Marketing    50000\n",
            "1   4  Carlos           RH    60000\n",
            "2   5     NaN          NaN    55000\n",
            "3   6     NaN          NaN    65000\n"
          ]
        }
      ]
    },
    {
      "cell_type": "markdown",
      "source": [
        "##Concatenación"
      ],
      "metadata": {
        "id": "jNPcKPw11pMm"
      }
    },
    {
      "cell_type": "code",
      "source": [
        "df3 = pd.DataFrame({\n",
        "    'ID': [7, 8],\n",
        "    'Nombre': ['Sofia', 'Pedro'],\n",
        "    'Departamento': ['Finanzas', 'Ventas']\n",
        "})\n",
        "\n",
        "concatenated_df = pd.concat([df1, df3])\n",
        "print(\"Concatenacion\\n\", concatenated_df)"
      ],
      "metadata": {
        "colab": {
          "base_uri": "https://localhost:8080/"
        },
        "id": "WxmQtvrk1rOp",
        "outputId": "037b2bee-2e6b-459e-d7cb-c579a88a7561"
      },
      "execution_count": 15,
      "outputs": [
        {
          "output_type": "stream",
          "name": "stdout",
          "text": [
            "Concatenacion\n",
            "    ID  Nombre Departamento  Salario\n",
            "0   1     Ana       Ventas      NaN\n",
            "1   2    Juan           IT      NaN\n",
            "2   3   María    Marketing      NaN\n",
            "3   4  Carlos           RH      NaN\n",
            "0   3     NaN          NaN  50000.0\n",
            "1   4     NaN          NaN  60000.0\n",
            "2   5     NaN          NaN  55000.0\n",
            "3   6     NaN          NaN  65000.0\n"
          ]
        }
      ]
    }
  ]
}