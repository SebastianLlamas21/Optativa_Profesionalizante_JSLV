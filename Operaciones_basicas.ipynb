{
  "nbformat": 4,
  "nbformat_minor": 0,
  "metadata": {
    "colab": {
      "provenance": [],
      "authorship_tag": "ABX9TyN6SdO0Y5Ougn6k4sJW/1Kf",
      "include_colab_link": true
    },
    "kernelspec": {
      "name": "python3",
      "display_name": "Python 3"
    },
    "language_info": {
      "name": "python"
    }
  },
  "cells": [
    {
      "cell_type": "markdown",
      "metadata": {
        "id": "view-in-github",
        "colab_type": "text"
      },
      "source": [
        "<a href=\"https://colab.research.google.com/github/SebastianLlamas21/Optativa_Profesionalizante_JSLV/blob/main/Operaciones_basicas.ipynb\" target=\"_parent\"><img src=\"https://colab.research.google.com/assets/colab-badge.svg\" alt=\"Open In Colab\"/></a>"
      ]
    },
    {
      "cell_type": "markdown",
      "source": [
        "##DataFrame de ejemplo"
      ],
      "metadata": {
        "id": "Br3e0el_wT4G"
      }
    },
    {
      "cell_type": "code",
      "execution_count": 1,
      "metadata": {
        "colab": {
          "base_uri": "https://localhost:8080/"
        },
        "id": "uwIZpEQLvaqU",
        "outputId": "fe254f7e-1b23-4272-e565-d5ed63ff8e4a"
      },
      "outputs": [
        {
          "output_type": "stream",
          "name": "stdout",
          "text": [
            "DataFrame original: \n",
            "   Nombre  Edad     Ciudad  Puntuacion\n",
            "0     Ana    25     Madrid          85\n",
            "1    Juan    30  Barcelona          92\n",
            "2   Maria    22     Madrid          78\n",
            "3  Carlos    28   Valencia          95\n",
            "4   Sofia    35  Barcelona          88\n"
          ]
        }
      ],
      "source": [
        "import pandas as pd\n",
        "\n",
        "df = pd.DataFrame({\n",
        "    'Nombre': ['Ana', 'Juan', 'Maria', 'Carlos', 'Sofia'],\n",
        "    'Edad': [25, 30, 22, 28, 35],\n",
        "    'Ciudad': ['Madrid', 'Barcelona', 'Madrid', 'Valencia', 'Barcelona'],\n",
        "    'Puntuacion': [85, 92, 78, 95, 88]\n",
        "})\n",
        "\n",
        "print(\"DataFrame original: \")\n",
        "print(df)"
      ]
    },
    {
      "cell_type": "markdown",
      "source": [
        "##Filtrado"
      ],
      "metadata": {
        "id": "3bQwgyC2wr5s"
      }
    },
    {
      "cell_type": "code",
      "source": [
        "mayores_25 = df[df['Edad'] > 25]\n",
        "print(\"\\nPersonas mayores de 25 años:\")\n",
        "print(mayores_25)"
      ],
      "metadata": {
        "colab": {
          "base_uri": "https://localhost:8080/"
        },
        "id": "3u2UJT0bwt8R",
        "outputId": "5062d68a-63fc-4feb-ef98-f18a9f70c74f"
      },
      "execution_count": 2,
      "outputs": [
        {
          "output_type": "stream",
          "name": "stdout",
          "text": [
            "\n",
            "Personas mayores de 25 años:\n",
            "   Nombre  Edad     Ciudad  Puntuacion\n",
            "1    Juan    30  Barcelona          92\n",
            "3  Carlos    28   Valencia          95\n",
            "4   Sofia    35  Barcelona          88\n"
          ]
        }
      ]
    },
    {
      "cell_type": "markdown",
      "source": [
        "##Agrupacion y Agregacion"
      ],
      "metadata": {
        "id": "e2ao-mu-w9mE"
      }
    },
    {
      "cell_type": "code",
      "source": [
        "resultado = df[df['Edad'] > 25].groupby('Ciudad')['Puntuacion'].max()\n",
        "print(\"Mácima puntuación por ciudad para personas mayores de 25 años: \")\n",
        "print(resultado)\n",
        "#"
      ],
      "metadata": {
        "colab": {
          "base_uri": "https://localhost:8080/"
        },
        "id": "aik8-trGwz85",
        "outputId": "fd4e3b1d-8acf-4b35-b8e4-c8c063a3b515"
      },
      "execution_count": 3,
      "outputs": [
        {
          "output_type": "stream",
          "name": "stdout",
          "text": [
            "Mácima puntuación por ciudad para personas mayores de 25 años: \n",
            "Ciudad\n",
            "Barcelona    92\n",
            "Valencia     95\n",
            "Name: Puntuacion, dtype: int64\n"
          ]
        }
      ]
    }
  ]
}