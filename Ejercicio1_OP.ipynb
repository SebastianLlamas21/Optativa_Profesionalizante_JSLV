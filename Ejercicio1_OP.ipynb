{
  "nbformat": 4,
  "nbformat_minor": 0,
  "metadata": {
    "colab": {
      "provenance": [],
      "authorship_tag": "ABX9TyNP9f1vDBXdnl1ZT0o7/q7h",
      "include_colab_link": true
    },
    "kernelspec": {
      "name": "python3",
      "display_name": "Python 3"
    },
    "language_info": {
      "name": "python"
    }
  },
  "cells": [
    {
      "cell_type": "markdown",
      "metadata": {
        "id": "view-in-github",
        "colab_type": "text"
      },
      "source": [
        "<a href=\"https://colab.research.google.com/github/SebastianLlamas21/Optativa_Profesionalizante_JSLV/blob/main/Ejercicio1_OP.ipynb\" target=\"_parent\"><img src=\"https://colab.research.google.com/assets/colab-badge.svg\" alt=\"Open In Colab\"/></a>"
      ]
    },
    {
      "cell_type": "code",
      "execution_count": 3,
      "metadata": {
        "colab": {
          "base_uri": "https://localhost:8080/"
        },
        "id": "24JMFDlhRvXS",
        "outputId": "99406ee2-6b3a-4096-854b-8b6651b9fd3c"
      },
      "outputs": [
        {
          "output_type": "stream",
          "name": "stdout",
          "text": [
            "Serie:\n",
            "0    1.0\n",
            "1    3.0\n",
            "2    5.0\n",
            "3    NaN\n",
            "4    6.0\n",
            "5    8.0\n",
            "dtype: float64\n"
          ]
        }
      ],
      "source": [
        "import pandas as pd\n",
        "import numpy as np\n",
        "\n",
        "s = pd.Series([1, 3, 5, np.nan, 6, 8])\n",
        "print(\"Serie:\")\n",
        "print(s)"
      ]
    },
    {
      "cell_type": "markdown",
      "source": [
        "## Estructura de data frame"
      ],
      "metadata": {
        "id": "rnDP5nzmV2eE"
      }
    },
    {
      "cell_type": "code",
      "source": [
        "df = pd.DataFrame({\n",
        "    'A': [1, 2, 3, 4],\n",
        "    'B': pd.Timestamp('20230101'),\n",
        "    'C': pd.Series(1, index=list(range(4)), dtype='float32'),\n",
        "    'D': np.array([3] * 4, dtype='int32'),\n",
        "    'E': pd.Categorical(['test', 'train', 'test', 'train']),\n",
        "    'F': 'foo'\n",
        "})\n",
        "print(\"\\nDataFrame: \")\n",
        "print(df)"
      ],
      "metadata": {
        "colab": {
          "base_uri": "https://localhost:8080/"
        },
        "id": "O7MJTOhiUNFS",
        "outputId": "c3bb2a9d-d3c6-4d86-ad5f-dfc7dea11998"
      },
      "execution_count": 6,
      "outputs": [
        {
          "output_type": "stream",
          "name": "stdout",
          "text": [
            "\n",
            "DataFrame: \n",
            "   A          B    C  D      E    F\n",
            "0  1 2023-01-01  1.0  3   test  foo\n",
            "1  2 2023-01-01  1.0  3  train  foo\n",
            "2  3 2023-01-01  1.0  3   test  foo\n",
            "3  4 2023-01-01  1.0  3  train  foo\n"
          ]
        }
      ]
    },
    {
      "cell_type": "markdown",
      "source": [
        "## Explorar DataFrame"
      ],
      "metadata": {
        "id": "J2CI6McNWDp1"
      }
    },
    {
      "cell_type": "code",
      "source": [
        "print(\"\\nTipos de datos: \")\n",
        "print(df.dtypes)\n",
        "print(\"\\nPrimeras dos filas: \")\n",
        "print(df.head(2))\n",
        "print(\"\\nUltimas dos filas: \")\n",
        "print(df.tail(2))"
      ],
      "metadata": {
        "colab": {
          "base_uri": "https://localhost:8080/"
        },
        "id": "IdHmAPBNWJc3",
        "outputId": "68b963a7-078b-455d-c3ac-116b65b1386c"
      },
      "execution_count": 7,
      "outputs": [
        {
          "output_type": "stream",
          "name": "stdout",
          "text": [
            "\n",
            "Tipos de datos: \n",
            "A            int64\n",
            "B    datetime64[s]\n",
            "C          float32\n",
            "D            int32\n",
            "E         category\n",
            "F           object\n",
            "dtype: object\n",
            "\n",
            "Primeras dos filas: \n",
            "   A          B    C  D      E    F\n",
            "0  1 2023-01-01  1.0  3   test  foo\n",
            "1  2 2023-01-01  1.0  3  train  foo\n",
            "\n",
            "Ultimas dos filas: \n",
            "   A          B    C  D      E    F\n",
            "2  3 2023-01-01  1.0  3   test  foo\n",
            "3  4 2023-01-01  1.0  3  train  foo\n"
          ]
        }
      ]
    }
  ]
}